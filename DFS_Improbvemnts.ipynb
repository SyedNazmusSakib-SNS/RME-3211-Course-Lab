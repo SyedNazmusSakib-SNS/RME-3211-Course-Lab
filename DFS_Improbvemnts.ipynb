{
 "cells": [
  {
   "cell_type": "code",
   "execution_count": null,
   "id": "c03b1e8b",
   "metadata": {},
   "outputs": [],
   "source": [
    "graph = {\n",
    "    \"WA\": [\"NT\", \"SA\"],\n",
    "    \"NT\": [\"WA\", \"SA\", \"Q\"],\n",
    "    \"SA\": [\"WA\", \"NT\", \"Q\", \"NSW\"],\n",
    "    \"Q\": [\"NT\", \"SA\", \"NSW\"],\n",
    "    \"NSW\": [\"SA\", \"Q\", \"V\"],\n",
    "    \"V\": [\"NSW\", \"T\"],\n",
    "    \"T\": [\"\"]\n",
    "}\n",
    "\n",
    "colors = [\"Red\", \"Green\", \"Blue\"]\n",
    "\n",
    "regions = [\"WA\", \"NT\", \"SA\", \"Q\", \"NSW\", \"T\"]"
   ]
  },
  {
   "cell_type": "code",
   "execution_count": null,
   "id": "55b21c12",
   "metadata": {},
   "outputs": [
    {
     "ename": "AttributeError",
     "evalue": "'NoneType' object has no attribute 'items'",
     "output_type": "error",
     "traceback": [
      "\u001b[31m---------------------------------------------------------------------------\u001b[39m",
      "\u001b[31mAttributeError\u001b[39m                            Traceback (most recent call last)",
      "\u001b[36mCell\u001b[39m\u001b[36m \u001b[39m\u001b[32mIn[4]\u001b[39m\u001b[32m, line 51\u001b[39m\n\u001b[32m     47\u001b[39m     \u001b[38;5;28;01mreturn\u001b[39;00m \u001b[38;5;28;01mNone\u001b[39;00m\n\u001b[32m     49\u001b[39m map_colored = map_color(contraint_graph, domain, var)\n\u001b[32m---> \u001b[39m\u001b[32m51\u001b[39m \u001b[38;5;28;01mfor\u001b[39;00m k, v \u001b[38;5;129;01min\u001b[39;00m \u001b[43mmap_colored\u001b[49m\u001b[43m.\u001b[49m\u001b[43mitems\u001b[49m():\n\u001b[32m     52\u001b[39m     \u001b[38;5;28mprint\u001b[39m(\u001b[33mf\u001b[39m\u001b[33m\"\u001b[39m\u001b[38;5;132;01m{\u001b[39;00mk\u001b[38;5;132;01m}\u001b[39;00m\u001b[33m : \u001b[39m\u001b[38;5;132;01m{\u001b[39;00mv\u001b[38;5;132;01m}\u001b[39;00m\u001b[33m\"\u001b[39m)\n",
      "\u001b[31mAttributeError\u001b[39m: 'NoneType' object has no attribute 'items'"
     ]
    }
   ],
   "source": [
    "\n",
    "\n",
    "def map_color(graph, colors, regions, coloring = None):\n",
    "\n",
    "    if coloring is None:\n",
    "        coloring = {}\n",
    "\n",
    "    if len(regions) == 0:\n",
    "        return coloring\n",
    "    \n",
    "    current_region = regions[0]\n",
    "    remaining_region = regions[1:]\n",
    "\n",
    "    for color in colors:\n",
    "        coloring[current_region] = color\n",
    "\n",
    "        # print(\"First Debug:\", coloring)\n",
    "\n",
    "        valid = True\n",
    "\n",
    "        for neighbor in graph[current_region]:\n",
    "            # print(f\"I am in Node: {current_region}\")\n",
    "            # print(f\"Neighbors are {neighbor}\")\n",
    "            \n",
    "            if neighbor in coloring and coloring[neighbor] == color:\n",
    "                valid = False\n",
    "                break\n",
    "\n",
    "        if valid:\n",
    "            result = map_color(graph, colors, remaining_region, coloring.copy())\n",
    "\n",
    "            if result is not None:\n",
    "                return result\n",
    "\n",
    "    return None\n",
    "\n",
    "map_colored = map_color(contraint_graph, domain, var)\n",
    "\n",
    "for k, v in map_colored.items():\n",
    "    print(f\"{k} : {v}\")\n",
    "\n"
   ]
  },
  {
   "cell_type": "code",
   "execution_count": null,
   "id": "75b7b897",
   "metadata": {},
   "outputs": [],
   "source": []
  }
 ],
 "metadata": {
  "kernelspec": {
   "display_name": "ml",
   "language": "python",
   "name": "python3"
  },
  "language_info": {
   "codemirror_mode": {
    "name": "ipython",
    "version": 3
   },
   "file_extension": ".py",
   "mimetype": "text/x-python",
   "name": "python",
   "nbconvert_exporter": "python",
   "pygments_lexer": "ipython3",
   "version": "3.11.11"
  }
 },
 "nbformat": 4,
 "nbformat_minor": 5
}
