{
 "cells": [
  {
   "cell_type": "code",
   "execution_count": null,
   "id": "c03b1e8b",
   "metadata": {},
   "outputs": [],
   "source": [
    "graph = {\n",
    "    \"WA\": [\"NT\", \"SA\"],\n",
    "    \"NT\": [\"WA\", \"SA\", \"Q\"],\n",
    "    \"SA\": [\"WA\", \"NT\", \"Q\", \"NSW\"],\n",
    "    \"Q\": [\"NT\", \"SA\", \"NSW\"],\n",
    "    \"NSW\": [\"SA\", \"Q\", \"V\"],\n",
    "    \"V\": [\"NSW\", \"T\"],\n",
    "    \"T\": [\"\"]\n",
    "}\n",
    "\n",
    "colors = [\"Red\", \"Green\", \"Blue\"]\n",
    "\n",
    "regions = [\"WA\", \"NT\", \"SA\", \"Q\", \"NSW\", \"T\"]"
   ]
  }
 ],
 "metadata": {
  "language_info": {
   "name": "python"
  }
 },
 "nbformat": 4,
 "nbformat_minor": 5
}
